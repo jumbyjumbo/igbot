{
 "cells": [
  {
   "cell_type": "code",
   "execution_count": null,
   "id": "0ec9983a-e89e-4a7b-87c3-dffdfdaeb258",
   "metadata": {
    "scrolled": true,
    "tags": []
   },
   "outputs": [
    {
     "name": "stderr",
     "output_type": "stream",
     "text": [
      "Status 429: Too many requests\n",
      "Ignore 429: Continue login\n"
     ]
    }
   ],
   "source": [
    "from instagrapi import Client\n",
    "from os import listdir as list_directory_files\n",
    "from time import sleep as wait\n",
    "from random import gauss \n",
    "\n",
    "\n",
    "\n",
    "#upload pics and vids to account\n",
    "def upload(folder = 'content', post_count = 0):\n",
    "    \n",
    "    #login to shitpost acc\n",
    "    cl = Client()\n",
    "    cl.login('USERNAME', \"PASSWORD\n",
    "\n",
    "    # get all files from chosen folder\n",
    "    all_files = list_directory_files(str(folder))\n",
    "\n",
    "\n",
    "    #uploading each file \n",
    "    for each_file in all_files:\n",
    "\n",
    "    cap = 'CAPTION'\n",
    "\n",
    "        #if its a jpg upload as photo\n",
    "        if each_file.endswith('.jpg'):\n",
    "            cl.photo_upload(path = os.path.realpath(each_file), caption = cap)\n",
    "\n",
    "        #if its an mp4 upload as reel\n",
    "        elif each_file.endswith('.mp4'):\n",
    "            cl.clip_upload(path = os.path.realpath(each_file), caption = cap)\n",
    "\n",
    "        #gaussian distribution around wait time between uploads so ig doesnt trip\n",
    "        wait(gauss(1, 0.1) * 1800)\n",
    "\n",
    "        \n",
    "        \n",
    "#download pics and vids from accounts\n",
    "def download(username, amount = 100):\n",
    "\n",
    "    cl = Client() #for clarity\n",
    "    #login\n",
    "    cl.login('USERNAME', 'PASSWORD\n",
    "    #get their user id\n",
    "    user_id = cl.user_id_from_username(username)\n",
    "    #get list of their posts\n",
    "    medias = cl.user_medias(user_id)\n",
    "\n",
    "    i = 0\n",
    "    for m in medias:\n",
    "        \n",
    "        if i >= amount: #stop at ammount specified\n",
    "            break\n",
    "\n",
    "        paths = []\n",
    "        \n",
    "        #photo\n",
    "        if m.media_type == 1:\n",
    "            paths.append(cl.photo_download(m.pk))\n",
    "\n",
    "        #Reels\n",
    "        elif m.media_type == 2 and m.product_type == \"clips\":\n",
    "            paths.append(cl.video_download(m.pk))\n",
    "        \n",
    "        #carousel\n",
    "        elif m.media_type == 8:\n",
    "            for path in cl.album_download(m.pk):\n",
    "                paths.append(path)    \n",
    "        i += 1\n",
    "\n",
    "\n",
    "download('USERNAME', AMMOUNT)"
   ]
  },
  {
   "cell_type": "code",
   "execution_count": null,
   "id": "d4be65e6-f4fd-4191-ad59-7b9a411c1160",
   "metadata": {},
   "outputs": [],
   "source": []
  }
 ],
 "metadata": {
  "kernelspec": {
   "display_name": "Python 3 (ipykernel)",
   "language": "python",
   "name": "python3"
  },
  "language_info": {
   "codemirror_mode": {
    "name": "ipython",
    "version": 3
   },
   "file_extension": ".py",
   "mimetype": "text/x-python",
   "name": "python",
   "nbconvert_exporter": "python",
   "pygments_lexer": "ipython3",
   "version": "3.9.13"
  }
 },
 "nbformat": 4,
 "nbformat_minor": 5
}
